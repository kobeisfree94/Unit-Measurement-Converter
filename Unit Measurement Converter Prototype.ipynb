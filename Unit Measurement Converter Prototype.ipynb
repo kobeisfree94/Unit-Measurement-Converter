{
 "cells": [
  {
   "cell_type": "code",
   "execution_count": 1,
   "id": "9077442c",
   "metadata": {},
   "outputs": [],
   "source": [
    "#Unit Conversion Program-- by kobeisfree94"
   ]
  },
  {
   "cell_type": "code",
   "execution_count": 2,
   "id": "b8cfca35",
   "metadata": {},
   "outputs": [],
   "source": [
    "def print_menu():\n",
    "    print(\"\\nMENU\\n\")\n",
    "    print(\"DISTANCE:\")\n",
    "    print(' 1.Meters to Inches')\n",
    "    print(' 2.Inches to Meters')\n",
    "    print(\"TEMPERATURE:\")\n",
    "    print(' 3.Farenheit to Celsius')\n",
    "    print(' 4.Celsius to Farenheit')\n",
    "    print(\"Weight:\")\n",
    "    print(' 5.Grams to Ounces')\n",
    "    print(' 6.Ounces to Grams')\n",
    "    print(\"VOLUME:\")\n",
    "    print(' 7.Liters to Cups')\n",
    "    print(' 8.Cups to Liters')\n",
    "\n",
    "    choice()"
   ]
  },
  {
   "cell_type": "code",
   "execution_count": 3,
   "id": "b97bb569",
   "metadata": {},
   "outputs": [],
   "source": [
    "def choice():\n",
    "    choice= input(\"Which conversion would you like to do?: \")\n",
    "\n",
    "    if choice == \"1\":\n",
    "        m_inch()\n",
    "    if choice == \"2\":\n",
    "        inch_m()\n",
    "    if choice == \"3\":\n",
    "        f_c()\n",
    "    if choice == \"4\":\n",
    "        c_f()\n",
    "    if choice == \"5\":\n",
    "        g_oz()\n",
    "    if choice == \"6\":\n",
    "        oz_g()\n",
    "    if choice == \"7\":\n",
    "        l_cup\n",
    "    if choice == \"8\":\n",
    "        cup_l"
   ]
  },
  {
   "cell_type": "code",
   "execution_count": 4,
   "id": "e96bd584",
   "metadata": {},
   "outputs": [],
   "source": [
    "def the_end():\n",
    "    print (\"GOOD BYE!\")"
   ]
  },
  {
   "cell_type": "code",
   "execution_count": 5,
   "id": "523cbe61",
   "metadata": {},
   "outputs": [],
   "source": [
    "def m_inch():\n",
    "    m = float(input(\"\\nEnter a Distance in Meters: \"))\n",
    "    inch = m*39.37 \n",
    "    print(\"\\nYou entered {0}. Distance in Inches: {1}\".format(m,inch)) \n",
    "    \n",
    "    \n",
    "    choice2= input(\"\\nWould you like to make another conversion? 'Yes' or 'No': \")\n",
    "    if choice2== 'yes':\n",
    "        print_menu()\n",
    "        choice()\n",
    "    elif choice2== 'no':\n",
    "        the_end()\n",
    "        \n",
    " "
   ]
  },
  {
   "cell_type": "code",
   "execution_count": 6,
   "id": "ec25113f",
   "metadata": {},
   "outputs": [],
   "source": [
    "def inch_m():\n",
    "    inch = float(input(\"\\nEnter a distance in Inches: \"))\n",
    "    m = inch/39.37\n",
    "    print(\"\\nYou entered {0}. Distance in Meters: {1}\".format(inch,m))\n",
    "    \n",
    "    choice2= input(\"\\nWould you like to make another conversion? 'Yes' or 'No': \")\n",
    "    if choice2== 'yes':\n",
    "        print_menu()\n",
    "        choice()\n",
    "    elif choice2== 'no':\n",
    "        the_end()\n",
    "        "
   ]
  },
  {
   "cell_type": "code",
   "execution_count": 7,
   "id": "b09265b8",
   "metadata": {},
   "outputs": [],
   "source": [
    "def f_c():\n",
    "    f = float(input(\"\\nEnter a temperature in Farenheit: \"))\n",
    "    c = (f-32)*(5/9)\n",
    "    print(\"\\nYou entered {0}. Temperature in Celcius: {1}\".format(f,c))\n",
    "    \n",
    "    choice2= input(\"\\nWould you like to make another conversion? 'Yes' or 'No': \")\n",
    "    if choice2== 'yes':\n",
    "        print_menu()\n",
    "        choice()\n",
    "    elif choice2== 'no':\n",
    "        the_end()\n",
    "        "
   ]
  },
  {
   "cell_type": "code",
   "execution_count": 8,
   "id": "e821b3a1",
   "metadata": {},
   "outputs": [],
   "source": [
    "def c_f():\n",
    "    c = float(input(\"\\nEnter a temperature in Celcius: \"))\n",
    "    f = c/5*9+32\n",
    "    print(\"\\nYou entered {0}. Temperature in Farenheit: {1}\".format(c,f))\n",
    "    \n",
    "    choice2= input(\"\\nWould you like to make another conversion? 'Yes' or 'No': \")\n",
    "    if choice2== 'yes':\n",
    "        print_menu()\n",
    "        choice()\n",
    "    elif choice2== 'no':\n",
    "        the_end()\n",
    "        "
   ]
  },
  {
   "cell_type": "code",
   "execution_count": 9,
   "id": "462f3bcc",
   "metadata": {},
   "outputs": [],
   "source": [
    "def g_oz():\n",
    "    g = float(input(\"\\nEnter a weight in grams: \"))\n",
    "    oz = g/28.35\n",
    "    print(\"\\nYou entered {0}. Weight in ounces: {1}\".format(g,oz))\n",
    "    \n",
    "    choice2= input(\"\\nWould you like to make another conversion? 'Yes' or 'No': \")\n",
    "    if choice2== 'yes':\n",
    "        print_menu()\n",
    "        choice()\n",
    "    elif choice2== 'no':\n",
    "        the_end()\n",
    "        "
   ]
  },
  {
   "cell_type": "code",
   "execution_count": 10,
   "id": "68705637",
   "metadata": {},
   "outputs": [],
   "source": [
    "def oz_g():\n",
    "    oz= float(input(\"\\nEnter a weight in ounces: \"))\n",
    "    g= oz*28.35\n",
    "    print(\"\\nYou entered {0}. Weight in grams: \".format(oz,g))\n",
    "    \n",
    "    choice2= input(\"\\nWould you like to make another conversion? 'Yes' or 'No': \")\n",
    "    if choice2== 'yes':\n",
    "        print_menu()\n",
    "        choice()\n",
    "    elif choice2== 'no':\n",
    "        the_end()\n",
    "        "
   ]
  },
  {
   "cell_type": "code",
   "execution_count": 11,
   "id": "524d461a",
   "metadata": {},
   "outputs": [],
   "source": [
    "def l_cup():\n",
    "    l= float(input(\"\\nEnter a volume in liters: \"))\n",
    "    cup= l*4.227\n",
    "    print(\"\\nYou entered {0}. Volume in cups: \". format(l,cup))\n",
    "    \n",
    "    choice2= input(\"\\nWould you like to make another conversion? 'Yes' or 'No': \")\n",
    "    if choice2== 'yes':\n",
    "        print_menu()\n",
    "        choice()\n",
    "    elif choice2== 'no':\n",
    "        the_end()\n",
    "        "
   ]
  },
  {
   "cell_type": "code",
   "execution_count": 12,
   "id": "ef20b49c",
   "metadata": {},
   "outputs": [],
   "source": [
    "def cup_l():\n",
    "    cup= float(input(\"\\nEnter a volume in cups: \"))\n",
    "    l= c/4.227\n",
    "    print(\"\\nYou entered {0}. Volume in liters: \".format(cup,l))\n",
    "    \n",
    "    choice2= input(\"\\nWould you like to make another conversion? 'Yes' or 'No': \")\n",
    "    if choice2== 'yes':\n",
    "        print_menu()\n",
    "        choice()\n",
    "    elif choice2== 'no':\n",
    "        the_end()\n",
    "        "
   ]
  },
  {
   "cell_type": "code",
   "execution_count": 13,
   "id": "cf6f2c35",
   "metadata": {},
   "outputs": [
    {
     "name": "stdout",
     "output_type": "stream",
     "text": [
      "\n",
      "MENU\n",
      "\n",
      "DISTANCE:\n",
      " 1.Meters to Inches\n",
      " 2.Inches to Meters\n",
      "TEMPERATURE:\n",
      " 3.Farenheit to Celsius\n",
      " 4.Celsius to Farenheit\n",
      "Weight:\n",
      " 5.Grams to Ounces\n",
      " 6.Ounces to Grams\n",
      "VOLUME:\n",
      " 7.Liters to Cups\n",
      " 8.Cups to Liters\n",
      "Which conversion would you like to do?: 1\n",
      "\n",
      "Enter a Distance in Meters: 10\n",
      "\n",
      "You entered 10.0. Distance in Inches: 393.7\n",
      "\n",
      "Would you like to make another conversion? 'Yes' or 'No': no\n",
      "GOOD BYE!\n"
     ]
    }
   ],
   "source": [
    "print_menu()"
   ]
  },
  {
   "cell_type": "code",
   "execution_count": 14,
   "id": "d2e05439",
   "metadata": {},
   "outputs": [
    {
     "name": "stdout",
     "output_type": "stream",
     "text": [
      "\n",
      "MENU\n",
      "\n",
      "DISTANCE:\n",
      " 1.Meters to Inches\n",
      " 2.Inches to Meters\n",
      "TEMPERATURE:\n",
      " 3.Farenheit to Celsius\n",
      " 4.Celsius to Farenheit\n",
      "Weight:\n",
      " 5.Grams to Ounces\n",
      " 6.Ounces to Grams\n",
      "VOLUME:\n",
      " 7.Liters to Cups\n",
      " 8.Cups to Liters\n",
      "Which conversion would you like to do?: 5\n",
      "\n",
      "Enter a weight in grams: 50\n",
      "\n",
      "You entered 50.0. Weight in ounces: 1.763668430335097\n",
      "\n",
      "Would you like to make another conversion? 'Yes' or 'No': no\n",
      "GOOD BYE!\n"
     ]
    }
   ],
   "source": [
    "print_menu()"
   ]
  },
  {
   "cell_type": "code",
   "execution_count": null,
   "id": "4c198e4a",
   "metadata": {},
   "outputs": [],
   "source": []
  },
  {
   "cell_type": "code",
   "execution_count": null,
   "id": "3ec01eeb",
   "metadata": {},
   "outputs": [],
   "source": []
  },
  {
   "cell_type": "code",
   "execution_count": null,
   "id": "f88b28e4",
   "metadata": {},
   "outputs": [],
   "source": []
  }
 ],
 "metadata": {
  "kernelspec": {
   "display_name": "Python 3",
   "language": "python",
   "name": "python3"
  },
  "language_info": {
   "codemirror_mode": {
    "name": "ipython",
    "version": 3
   },
   "file_extension": ".py",
   "mimetype": "text/x-python",
   "name": "python",
   "nbconvert_exporter": "python",
   "pygments_lexer": "ipython3",
   "version": "3.8.8"
  }
 },
 "nbformat": 4,
 "nbformat_minor": 5
}
